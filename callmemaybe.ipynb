{
 "cells": [
  {
   "cell_type": "markdown",
   "metadata": {},
   "source": [
    "# Tabla de contenido\n",
    "\n",
    "1. Descripción de proyecto\n",
    "2. Objetivo del proyecto\n",
    "3. Inicialización\n",
    "4. Carga de datos\n",
    "5. Procesamiento de datos \n",
    "    \n",
    "    5.1 Valores nulos\n",
    "    \n",
    "    5.2 Valores duplicados\n",
    "    \n",
    "    \n",
    "6. Análisis exploratorio\n",
    "7. Estadisticas para los operadores\n",
    "    \n",
    "    7.1 Distribución de llamadas entrantes pérdidas\n",
    "    \n",
    "    7.2 Distribución de tiempo promedio de espera de llamadas\n",
    "    \n",
    "    7.3 Distribución de llamadas salientes\n",
    "    \n",
    "    \n",
    "8. Operaciones ineficientes\n",
    "9. Hipótesis\n",
    "10. Conclusión\n",
    "11. Recomendación\n",
    "12. Acciones futuras\n",
    "13. Links"
   ]
  },
  {
   "cell_type": "markdown",
   "metadata": {},
   "source": [
    "## Descripción de proyeto"
   ]
  },
  {
   "cell_type": "markdown",
   "metadata": {},
   "source": [
    "El servicio de telefonía virtual CallMeMaybe está desarrollando una nueva función que brindará a los supervisores y las supervisores información sobre los operadores menos eficaces. Se considera que un operador es ineficaz si tiene una gran cantidad de llamadas entrantes perdidas (internas y externas) y un tiempo de espera prolongado para las llamadas entrantes. Además, si se supone que un operador debe realizar llamadas salientes, un número reducido de ellas también será un signo de ineficacia."
   ]
  },
  {
   "cell_type": "markdown",
   "metadata": {},
   "source": [
    "## Objetivos del proyecto"
   ]
  },
  {
   "cell_type": "markdown",
   "metadata": {},
   "source": [
    "- **¿Qué queremos conseguir y por qué?** Obtener información de los operadores menos eficaces.\n",
    "    \n",
    "- **¿A quién le interesa el producto?** A los supervisores y las supervisores.\n",
    "\n",
    "- **¿Qué decisiones se tomarán de acuerdo al análisis?**"
   ]
  },
  {
   "cell_type": "markdown",
   "metadata": {},
   "source": [
    "**Criterios de Ineficacia del Operador:**\n",
    "Un operador se considerará ineficaz si cumple con las siguientes condiciones:\n",
    "\n",
    "**Llamadas Entrantes Perdidas:** El operador tiene un alto número de llamadas perdidas tanto internas como externas.\n",
    "Tiempo de Espera Prolongado: Las llamadas entrantes experimentan largos tiempos de espera antes de ser atendidas por el operador.\n",
    "\n",
    "**Llamadas Salientes Insuficientes:** Si se espera que el operador realice llamadas salientes, pero su número es significativamente menor de lo esperado, esto también será indicativo de ineficacia."
   ]
  },
  {
   "cell_type": "markdown",
   "metadata": {},
   "source": [
    "## Inicialización"
   ]
  },
  {
   "cell_type": "code",
   "execution_count": 237,
   "metadata": {},
   "outputs": [],
   "source": [
    "# Cargar todas las librerías\n",
    "import pandas as pd\n",
    "from datetime import datetime\n",
    "import matplotlib.pyplot as plt\n",
    "import seaborn as sns\n",
    "import numpy as np"
   ]
  },
  {
   "cell_type": "markdown",
   "metadata": {},
   "source": [
    "## Cargar los datos"
   ]
  },
  {
   "cell_type": "code",
   "execution_count": 238,
   "metadata": {},
   "outputs": [],
   "source": [
    "# cargar información de los operadores\n",
    "telecom_dataset_us = pd.read_csv('/datasets/telecom_dataset_us.csv',parse_dates=['date'])"
   ]
  },
  {
   "cell_type": "code",
   "execution_count": 239,
   "metadata": {},
   "outputs": [],
   "source": [
    "# cargar información de los clientes\n",
    "telecom_clients_us = pd.read_csv('/datasets/telecom_clients_us.csv',parse_dates=['date_start'])"
   ]
  },
  {
   "cell_type": "code",
   "execution_count": 240,
   "metadata": {},
   "outputs": [
    {
     "name": "stdout",
     "output_type": "stream",
     "text": [
      "<class 'pandas.core.frame.DataFrame'>\n",
      "RangeIndex: 53902 entries, 0 to 53901\n",
      "Data columns (total 9 columns):\n",
      " #   Column               Non-Null Count  Dtype                                \n",
      "---  ------               --------------  -----                                \n",
      " 0   user_id              53902 non-null  int64                                \n",
      " 1   date                 53902 non-null  datetime64[ns, pytz.FixedOffset(180)]\n",
      " 2   direction            53902 non-null  object                               \n",
      " 3   internal             53785 non-null  object                               \n",
      " 4   operator_id          45730 non-null  float64                              \n",
      " 5   is_missed_call       53902 non-null  bool                                 \n",
      " 6   calls_count          53902 non-null  int64                                \n",
      " 7   call_duration        53902 non-null  int64                                \n",
      " 8   total_call_duration  53902 non-null  int64                                \n",
      "dtypes: bool(1), datetime64[ns, pytz.FixedOffset(180)](1), float64(1), int64(4), object(2)\n",
      "memory usage: 3.3+ MB\n"
     ]
    }
   ],
   "source": [
    "# mostramos información general del set de datos de los operadores\n",
    "telecom_dataset_us.info()"
   ]
  },
  {
   "cell_type": "code",
   "execution_count": 241,
   "metadata": {},
   "outputs": [
    {
     "data": {
      "text/html": [
       "<div>\n",
       "<style scoped>\n",
       "    .dataframe tbody tr th:only-of-type {\n",
       "        vertical-align: middle;\n",
       "    }\n",
       "\n",
       "    .dataframe tbody tr th {\n",
       "        vertical-align: top;\n",
       "    }\n",
       "\n",
       "    .dataframe thead th {\n",
       "        text-align: right;\n",
       "    }\n",
       "</style>\n",
       "<table border=\"1\" class=\"dataframe\">\n",
       "  <thead>\n",
       "    <tr style=\"text-align: right;\">\n",
       "      <th></th>\n",
       "      <th>user_id</th>\n",
       "      <th>date</th>\n",
       "      <th>direction</th>\n",
       "      <th>internal</th>\n",
       "      <th>operator_id</th>\n",
       "      <th>is_missed_call</th>\n",
       "      <th>calls_count</th>\n",
       "      <th>call_duration</th>\n",
       "      <th>total_call_duration</th>\n",
       "    </tr>\n",
       "  </thead>\n",
       "  <tbody>\n",
       "    <tr>\n",
       "      <th>10289</th>\n",
       "      <td>166678</td>\n",
       "      <td>2019-09-10 00:00:00+03:00</td>\n",
       "      <td>in</td>\n",
       "      <td>False</td>\n",
       "      <td>900892.0</td>\n",
       "      <td>False</td>\n",
       "      <td>3</td>\n",
       "      <td>412</td>\n",
       "      <td>424</td>\n",
       "    </tr>\n",
       "    <tr>\n",
       "      <th>21217</th>\n",
       "      <td>167016</td>\n",
       "      <td>2019-11-26 00:00:00+03:00</td>\n",
       "      <td>out</td>\n",
       "      <td>True</td>\n",
       "      <td>962902.0</td>\n",
       "      <td>False</td>\n",
       "      <td>3</td>\n",
       "      <td>181</td>\n",
       "      <td>237</td>\n",
       "    </tr>\n",
       "    <tr>\n",
       "      <th>16962</th>\n",
       "      <td>166916</td>\n",
       "      <td>2019-11-12 00:00:00+03:00</td>\n",
       "      <td>out</td>\n",
       "      <td>True</td>\n",
       "      <td>906416.0</td>\n",
       "      <td>True</td>\n",
       "      <td>1</td>\n",
       "      <td>0</td>\n",
       "      <td>43</td>\n",
       "    </tr>\n",
       "    <tr>\n",
       "      <th>606</th>\n",
       "      <td>166392</td>\n",
       "      <td>2019-08-29 00:00:00+03:00</td>\n",
       "      <td>in</td>\n",
       "      <td>False</td>\n",
       "      <td>891900.0</td>\n",
       "      <td>False</td>\n",
       "      <td>1</td>\n",
       "      <td>4</td>\n",
       "      <td>46</td>\n",
       "    </tr>\n",
       "    <tr>\n",
       "      <th>19702</th>\n",
       "      <td>166985</td>\n",
       "      <td>2019-11-05 00:00:00+03:00</td>\n",
       "      <td>in</td>\n",
       "      <td>False</td>\n",
       "      <td>NaN</td>\n",
       "      <td>True</td>\n",
       "      <td>1</td>\n",
       "      <td>0</td>\n",
       "      <td>16</td>\n",
       "    </tr>\n",
       "  </tbody>\n",
       "</table>\n",
       "</div>"
      ],
      "text/plain": [
       "       user_id                      date direction internal  operator_id  \\\n",
       "10289   166678 2019-09-10 00:00:00+03:00        in    False     900892.0   \n",
       "21217   167016 2019-11-26 00:00:00+03:00       out     True     962902.0   \n",
       "16962   166916 2019-11-12 00:00:00+03:00       out     True     906416.0   \n",
       "606     166392 2019-08-29 00:00:00+03:00        in    False     891900.0   \n",
       "19702   166985 2019-11-05 00:00:00+03:00        in    False          NaN   \n",
       "\n",
       "       is_missed_call  calls_count  call_duration  total_call_duration  \n",
       "10289           False            3            412                  424  \n",
       "21217           False            3            181                  237  \n",
       "16962            True            1              0                   43  \n",
       "606             False            1              4                   46  \n",
       "19702            True            1              0                   16  "
      ]
     },
     "execution_count": 241,
     "metadata": {},
     "output_type": "execute_result"
    }
   ],
   "source": [
    "# mostramos parte de los datos de los operadores\n",
    "telecom_dataset_us.sample(5)"
   ]
  },
  {
   "cell_type": "markdown",
   "metadata": {},
   "source": [
    "---\n",
    "El dataset comprimido `telecom_dataset_us.csv` contiene las siguientes columnas:\n",
    "\n",
    "- `user_id`: ID de la cuenta de cliente\n",
    "- `date`: fecha en la que se recuperaron las estadísticas\n",
    "- `direction`: \"dirección\" de llamada (`out` para saliente, `in` para entrante)\n",
    "- `internal`: si la llamada fue interna (entre los operadores de un cliente o clienta)\n",
    "- `operator_id`: identificador del operador\n",
    "- `is_missed_call`: si fue una llamada perdida\n",
    "- `calls_count`: número de llamadas\n",
    "- `call_duration`: duración de la llamada en minutos (sin incluir el tiempo de espera)\n",
    "- `total_call_duration`: duración de la llamada en minutos (incluido el tiempo de espera)\n",
    "\n",
    "\n",
    "**Tenemos 53,902 registros y nueve columnas.** El tipo de datos para cada columna es el correcto, a excepción de la columna `'operator_id'` que tiene el tipo `'float64'` pero observando sus valores podemos convertirlo al tipo `'int64'`.\n"
   ]
  },
  {
   "cell_type": "code",
   "execution_count": 242,
   "metadata": {},
   "outputs": [
    {
     "name": "stdout",
     "output_type": "stream",
     "text": [
      "<class 'pandas.core.frame.DataFrame'>\n",
      "RangeIndex: 732 entries, 0 to 731\n",
      "Data columns (total 3 columns):\n",
      " #   Column       Non-Null Count  Dtype         \n",
      "---  ------       --------------  -----         \n",
      " 0   user_id      732 non-null    int64         \n",
      " 1   tariff_plan  732 non-null    object        \n",
      " 2   date_start   732 non-null    datetime64[ns]\n",
      "dtypes: datetime64[ns](1), int64(1), object(1)\n",
      "memory usage: 17.3+ KB\n"
     ]
    }
   ],
   "source": [
    "# mostramos información general del set de datos de los clientes\n",
    "telecom_clients_us.info()"
   ]
  },
  {
   "cell_type": "code",
   "execution_count": 243,
   "metadata": {},
   "outputs": [
    {
     "data": {
      "text/html": [
       "<div>\n",
       "<style scoped>\n",
       "    .dataframe tbody tr th:only-of-type {\n",
       "        vertical-align: middle;\n",
       "    }\n",
       "\n",
       "    .dataframe tbody tr th {\n",
       "        vertical-align: top;\n",
       "    }\n",
       "\n",
       "    .dataframe thead th {\n",
       "        text-align: right;\n",
       "    }\n",
       "</style>\n",
       "<table border=\"1\" class=\"dataframe\">\n",
       "  <thead>\n",
       "    <tr style=\"text-align: right;\">\n",
       "      <th></th>\n",
       "      <th>user_id</th>\n",
       "      <th>tariff_plan</th>\n",
       "      <th>date_start</th>\n",
       "    </tr>\n",
       "  </thead>\n",
       "  <tbody>\n",
       "    <tr>\n",
       "      <th>0</th>\n",
       "      <td>166713</td>\n",
       "      <td>A</td>\n",
       "      <td>2019-08-15</td>\n",
       "    </tr>\n",
       "    <tr>\n",
       "      <th>1</th>\n",
       "      <td>166901</td>\n",
       "      <td>A</td>\n",
       "      <td>2019-08-23</td>\n",
       "    </tr>\n",
       "    <tr>\n",
       "      <th>2</th>\n",
       "      <td>168527</td>\n",
       "      <td>A</td>\n",
       "      <td>2019-10-29</td>\n",
       "    </tr>\n",
       "    <tr>\n",
       "      <th>3</th>\n",
       "      <td>167097</td>\n",
       "      <td>A</td>\n",
       "      <td>2019-09-01</td>\n",
       "    </tr>\n",
       "    <tr>\n",
       "      <th>4</th>\n",
       "      <td>168193</td>\n",
       "      <td>A</td>\n",
       "      <td>2019-10-16</td>\n",
       "    </tr>\n",
       "  </tbody>\n",
       "</table>\n",
       "</div>"
      ],
      "text/plain": [
       "   user_id tariff_plan date_start\n",
       "0   166713           A 2019-08-15\n",
       "1   166901           A 2019-08-23\n",
       "2   168527           A 2019-10-29\n",
       "3   167097           A 2019-09-01\n",
       "4   168193           A 2019-10-16"
      ]
     },
     "execution_count": 243,
     "metadata": {},
     "output_type": "execute_result"
    }
   ],
   "source": [
    "# mostramos parte de los datos de los clientes\n",
    "telecom_clients_us.head()"
   ]
  },
  {
   "cell_type": "markdown",
   "metadata": {},
   "source": [
    "---\n",
    "El conjunto de datos `telecom_clients_us.csv` tiene las siguientes columnas:\n",
    "\n",
    "- `user_id`: ID de usuario/a\n",
    "- `tariff_plan`: tarifa actual de la clientela\n",
    "- `date_start`: fecha de registro de la clientela\n",
    "\n",
    "\n",
    "**Tenemos 732 registros y tres columnas.** \n"
   ]
  },
  {
   "cell_type": "markdown",
   "metadata": {},
   "source": [
    "## Preprocesamiento de datos  "
   ]
  },
  {
   "cell_type": "markdown",
   "metadata": {},
   "source": [
    "### Valores nulos"
   ]
  },
  {
   "cell_type": "code",
   "execution_count": 244,
   "metadata": {},
   "outputs": [
    {
     "data": {
      "text/plain": [
       "user_id                   0\n",
       "date                      0\n",
       "direction                 0\n",
       "internal                117\n",
       "operator_id            8172\n",
       "is_missed_call            0\n",
       "calls_count               0\n",
       "call_duration             0\n",
       "total_call_duration       0\n",
       "dtype: int64"
      ]
     },
     "execution_count": 244,
     "metadata": {},
     "output_type": "execute_result"
    }
   ],
   "source": [
    "# revisamos el dataset de los operadores\n",
    "telecom_dataset_us.isna().sum()"
   ]
  },
  {
   "cell_type": "code",
   "execution_count": 245,
   "metadata": {},
   "outputs": [
    {
     "data": {
      "text/plain": [
       "user_id        0\n",
       "tariff_plan    0\n",
       "date_start     0\n",
       "dtype: int64"
      ]
     },
     "execution_count": 245,
     "metadata": {},
     "output_type": "execute_result"
    }
   ],
   "source": [
    "# revisamos el dataset de los usuarios\n",
    "telecom_clients_us.isna().sum()"
   ]
  },
  {
   "cell_type": "code",
   "execution_count": 246,
   "metadata": {},
   "outputs": [
    {
     "data": {
      "text/html": [
       "<div>\n",
       "<style scoped>\n",
       "    .dataframe tbody tr th:only-of-type {\n",
       "        vertical-align: middle;\n",
       "    }\n",
       "\n",
       "    .dataframe tbody tr th {\n",
       "        vertical-align: top;\n",
       "    }\n",
       "\n",
       "    .dataframe thead th {\n",
       "        text-align: right;\n",
       "    }\n",
       "</style>\n",
       "<table border=\"1\" class=\"dataframe\">\n",
       "  <thead>\n",
       "    <tr style=\"text-align: right;\">\n",
       "      <th></th>\n",
       "      <th>user_id</th>\n",
       "      <th>date</th>\n",
       "      <th>direction</th>\n",
       "      <th>internal</th>\n",
       "      <th>operator_id</th>\n",
       "      <th>is_missed_call</th>\n",
       "      <th>calls_count</th>\n",
       "      <th>call_duration</th>\n",
       "      <th>total_call_duration</th>\n",
       "    </tr>\n",
       "  </thead>\n",
       "  <tbody>\n",
       "    <tr>\n",
       "      <th>39519</th>\n",
       "      <td>167747</td>\n",
       "      <td>2019-10-18 00:00:00+03:00</td>\n",
       "      <td>in</td>\n",
       "      <td>NaN</td>\n",
       "      <td>NaN</td>\n",
       "      <td>True</td>\n",
       "      <td>1</td>\n",
       "      <td>0</td>\n",
       "      <td>8</td>\n",
       "    </tr>\n",
       "    <tr>\n",
       "      <th>23183</th>\n",
       "      <td>167078</td>\n",
       "      <td>2019-11-13 00:00:00+03:00</td>\n",
       "      <td>in</td>\n",
       "      <td>NaN</td>\n",
       "      <td>935348.0</td>\n",
       "      <td>False</td>\n",
       "      <td>2</td>\n",
       "      <td>73</td>\n",
       "      <td>84</td>\n",
       "    </tr>\n",
       "    <tr>\n",
       "      <th>36251</th>\n",
       "      <td>167599</td>\n",
       "      <td>2019-11-03 00:00:00+03:00</td>\n",
       "      <td>in</td>\n",
       "      <td>NaN</td>\n",
       "      <td>NaN</td>\n",
       "      <td>True</td>\n",
       "      <td>1</td>\n",
       "      <td>0</td>\n",
       "      <td>2</td>\n",
       "    </tr>\n",
       "    <tr>\n",
       "      <th>21004</th>\n",
       "      <td>167016</td>\n",
       "      <td>2019-10-23 00:00:00+03:00</td>\n",
       "      <td>out</td>\n",
       "      <td>NaN</td>\n",
       "      <td>NaN</td>\n",
       "      <td>True</td>\n",
       "      <td>3</td>\n",
       "      <td>0</td>\n",
       "      <td>196</td>\n",
       "    </tr>\n",
       "    <tr>\n",
       "      <th>41111</th>\n",
       "      <td>167828</td>\n",
       "      <td>2019-11-18 00:00:00+03:00</td>\n",
       "      <td>in</td>\n",
       "      <td>NaN</td>\n",
       "      <td>940430.0</td>\n",
       "      <td>False</td>\n",
       "      <td>1</td>\n",
       "      <td>363</td>\n",
       "      <td>364</td>\n",
       "    </tr>\n",
       "    <tr>\n",
       "      <th>52187</th>\n",
       "      <td>168361</td>\n",
       "      <td>2019-11-01 00:00:00+03:00</td>\n",
       "      <td>in</td>\n",
       "      <td>NaN</td>\n",
       "      <td>NaN</td>\n",
       "      <td>True</td>\n",
       "      <td>3</td>\n",
       "      <td>0</td>\n",
       "      <td>15</td>\n",
       "    </tr>\n",
       "    <tr>\n",
       "      <th>24505</th>\n",
       "      <td>167110</td>\n",
       "      <td>2019-10-16 00:00:00+03:00</td>\n",
       "      <td>in</td>\n",
       "      <td>NaN</td>\n",
       "      <td>NaN</td>\n",
       "      <td>True</td>\n",
       "      <td>1</td>\n",
       "      <td>0</td>\n",
       "      <td>4</td>\n",
       "    </tr>\n",
       "    <tr>\n",
       "      <th>51505</th>\n",
       "      <td>168307</td>\n",
       "      <td>2019-11-01 00:00:00+03:00</td>\n",
       "      <td>in</td>\n",
       "      <td>NaN</td>\n",
       "      <td>945046.0</td>\n",
       "      <td>False</td>\n",
       "      <td>1</td>\n",
       "      <td>745</td>\n",
       "      <td>748</td>\n",
       "    </tr>\n",
       "    <tr>\n",
       "      <th>24489</th>\n",
       "      <td>167110</td>\n",
       "      <td>2019-09-19 00:00:00+03:00</td>\n",
       "      <td>in</td>\n",
       "      <td>NaN</td>\n",
       "      <td>NaN</td>\n",
       "      <td>True</td>\n",
       "      <td>1</td>\n",
       "      <td>0</td>\n",
       "      <td>5</td>\n",
       "    </tr>\n",
       "    <tr>\n",
       "      <th>43466</th>\n",
       "      <td>167998</td>\n",
       "      <td>2019-10-23 00:00:00+03:00</td>\n",
       "      <td>in</td>\n",
       "      <td>NaN</td>\n",
       "      <td>NaN</td>\n",
       "      <td>True</td>\n",
       "      <td>1</td>\n",
       "      <td>0</td>\n",
       "      <td>2</td>\n",
       "    </tr>\n",
       "  </tbody>\n",
       "</table>\n",
       "</div>"
      ],
      "text/plain": [
       "       user_id                      date direction internal  operator_id  \\\n",
       "39519   167747 2019-10-18 00:00:00+03:00        in      NaN          NaN   \n",
       "23183   167078 2019-11-13 00:00:00+03:00        in      NaN     935348.0   \n",
       "36251   167599 2019-11-03 00:00:00+03:00        in      NaN          NaN   \n",
       "21004   167016 2019-10-23 00:00:00+03:00       out      NaN          NaN   \n",
       "41111   167828 2019-11-18 00:00:00+03:00        in      NaN     940430.0   \n",
       "52187   168361 2019-11-01 00:00:00+03:00        in      NaN          NaN   \n",
       "24505   167110 2019-10-16 00:00:00+03:00        in      NaN          NaN   \n",
       "51505   168307 2019-11-01 00:00:00+03:00        in      NaN     945046.0   \n",
       "24489   167110 2019-09-19 00:00:00+03:00        in      NaN          NaN   \n",
       "43466   167998 2019-10-23 00:00:00+03:00        in      NaN          NaN   \n",
       "\n",
       "       is_missed_call  calls_count  call_duration  total_call_duration  \n",
       "39519            True            1              0                    8  \n",
       "23183           False            2             73                   84  \n",
       "36251            True            1              0                    2  \n",
       "21004            True            3              0                  196  \n",
       "41111           False            1            363                  364  \n",
       "52187            True            3              0                   15  \n",
       "24505            True            1              0                    4  \n",
       "51505           False            1            745                  748  \n",
       "24489            True            1              0                    5  \n",
       "43466            True            1              0                    2  "
      ]
     },
     "execution_count": 246,
     "metadata": {},
     "output_type": "execute_result"
    }
   ],
   "source": [
    "# revisamos el dataset para los valores nulos en la columna 'internal'\n",
    "# 'internal' nos dice si la llamada fue hecha entre los operadores de un cliente, toma valores 'True' o 'False'\n",
    "telecom_dataset_us[telecom_dataset_us['internal'].isna()].sample(10)"
   ]
  },
  {
   "cell_type": "code",
   "execution_count": 247,
   "metadata": {},
   "outputs": [
    {
     "data": {
      "text/plain": [
       "False    47621\n",
       "True      6164\n",
       "NaN        117\n",
       "Name: internal, dtype: int64"
      ]
     },
     "execution_count": 247,
     "metadata": {},
     "output_type": "execute_result"
    }
   ],
   "source": [
    "# veamos la distribución de los valores en la columna 'internal'\n",
    "telecom_dataset_us['internal'].value_counts(dropna=False)"
   ]
  },
  {
   "cell_type": "markdown",
   "metadata": {},
   "source": [
    "Podemos ver que es más probable el valor `'False'` por lo que estimaremos los valores nulos usando el valor `'False'`."
   ]
  },
  {
   "cell_type": "code",
   "execution_count": 248,
   "metadata": {},
   "outputs": [],
   "source": [
    "# reemplazamos los valores nulos en la columna 'internal'\n",
    "telecom_dataset_us['internal'].fillna(False,inplace=True)"
   ]
  },
  {
   "cell_type": "code",
   "execution_count": 249,
   "metadata": {},
   "outputs": [
    {
     "data": {
      "text/plain": [
       "user_id                   0\n",
       "date                      0\n",
       "direction                 0\n",
       "internal                  0\n",
       "operator_id            8172\n",
       "is_missed_call            0\n",
       "calls_count               0\n",
       "call_duration             0\n",
       "total_call_duration       0\n",
       "dtype: int64"
      ]
     },
     "execution_count": 249,
     "metadata": {},
     "output_type": "execute_result"
    }
   ],
   "source": [
    "# verificamos que se haya hecho el reemplazo\n",
    "telecom_dataset_us.isna().sum()"
   ]
  },
  {
   "cell_type": "markdown",
   "metadata": {},
   "source": [
    "Ya no tenemos valores nulos en la columna `'internal'`, procedemos ahora a revisar la columna `'operador_id'`."
   ]
  },
  {
   "cell_type": "code",
   "execution_count": 250,
   "metadata": {},
   "outputs": [
    {
     "name": "stdout",
     "output_type": "stream",
     "text": [
      "      user_id direction  operator_id  frequency\n",
      "1626   168583        in     952126.0          5\n",
      "1627   168583        in     962062.0         12\n",
      "1628   168598        in     958394.0         11\n",
      "1629   168601        in     952914.0         18\n",
      "1630   168601        in     952916.0          1\n",
      "1631   168601       out     952914.0         37\n",
      "1632   168601       out     952916.0          4\n",
      "1633   168603       out     959118.0          7\n",
      "1634   168606        in     957922.0          2\n",
      "1635   168606       out     957922.0          8\n"
     ]
    }
   ],
   "source": [
    "# Agrupar por 'user_id', 'direction' y contar las frecuencias de 'operator_id'\n",
    "result = telecom_dataset_us.groupby(['user_id', 'direction', 'operator_id']).size().reset_index(name='frequency')\n",
    "\n",
    "# Mostrar las últimas 10 filas del resultado\n",
    "print(result.tail(10))"
   ]
  },
  {
   "cell_type": "markdown",
   "metadata": {},
   "source": [
    "Notamos que no hay manera de imputar adecuadamente los valores nulos de `'operator_id'`, de tal forma que para no incurrir en errores en el cálculo de alguna estadística vamos a proceder a eliminar esos registros con valores nulos y ver la cantidad de información que perdemos."
   ]
  },
  {
   "cell_type": "code",
   "execution_count": 251,
   "metadata": {},
   "outputs": [
    {
     "data": {
      "text/plain": [
       "(45730, 9)"
      ]
     },
     "execution_count": 251,
     "metadata": {},
     "output_type": "execute_result"
    }
   ],
   "source": [
    "# creamos un dataframe sin valores nulos\n",
    "telecom_dataset_us_notna=telecom_dataset_us[telecom_dataset_us['operator_id'].notna()]\n",
    "telecom_dataset_us_notna.shape"
   ]
  },
  {
   "cell_type": "code",
   "execution_count": 252,
   "metadata": {},
   "outputs": [
    {
     "data": {
      "text/plain": [
       "user_id                0\n",
       "date                   0\n",
       "direction              0\n",
       "internal               0\n",
       "operator_id            0\n",
       "is_missed_call         0\n",
       "calls_count            0\n",
       "call_duration          0\n",
       "total_call_duration    0\n",
       "dtype: int64"
      ]
     },
     "execution_count": 252,
     "metadata": {},
     "output_type": "execute_result"
    }
   ],
   "source": [
    "# revisamos el dataframe creado en busca de valores nulos\n",
    "telecom_dataset_us_notna.isna().sum()"
   ]
  },
  {
   "cell_type": "markdown",
   "metadata": {},
   "source": [
    "Podemos notar que en el dataframe `'telecom_dataset_us_notna'` ya no tenemos valores nulos y que contamos con 45,730 registros y nueve columnas. Además, al eliminar esos 8,172 valores nulos hemos perdido aproximadamente un $\\frac{8172}{53902} x 100=15.16\\% $ de la información."
   ]
  },
  {
   "cell_type": "code",
   "execution_count": 253,
   "metadata": {},
   "outputs": [],
   "source": [
    "telecom_dataset_us_notna = telecom_dataset_us_notna.copy()\n",
    "telecom_dataset_us_notna['operator_id'] = telecom_dataset_us_notna['operator_id'].astype('int64')"
   ]
  },
  {
   "cell_type": "code",
   "execution_count": 254,
   "metadata": {},
   "outputs": [],
   "source": [
    "# finalmente transformemos el tipo de datos de la columna 'operator_id' a una de tipo 'int64'\n",
    "telecom_dataset_us_notna.loc[:, 'operator_id'] = telecom_dataset_us_notna['operator_id'].astype('int64')"
   ]
  },
  {
   "cell_type": "code",
   "execution_count": 255,
   "metadata": {},
   "outputs": [],
   "source": [
    "# obtengamos el tiempo de espera de la llamada\n",
    "telecom_dataset_us_notna.loc[:,'time_waiting']=telecom_dataset_us_notna.loc[:,'total_call_duration']-telecom_dataset_us_notna.loc[:,'call_duration']"
   ]
  },
  {
   "cell_type": "code",
   "execution_count": 256,
   "metadata": {},
   "outputs": [
    {
     "name": "stdout",
     "output_type": "stream",
     "text": [
      "<class 'pandas.core.frame.DataFrame'>\n",
      "Int64Index: 45730 entries, 1 to 53900\n",
      "Data columns (total 10 columns):\n",
      " #   Column               Non-Null Count  Dtype                                \n",
      "---  ------               --------------  -----                                \n",
      " 0   user_id              45730 non-null  int64                                \n",
      " 1   date                 45730 non-null  datetime64[ns, pytz.FixedOffset(180)]\n",
      " 2   direction            45730 non-null  object                               \n",
      " 3   internal             45730 non-null  bool                                 \n",
      " 4   operator_id          45730 non-null  int64                                \n",
      " 5   is_missed_call       45730 non-null  bool                                 \n",
      " 6   calls_count          45730 non-null  int64                                \n",
      " 7   call_duration        45730 non-null  int64                                \n",
      " 8   total_call_duration  45730 non-null  int64                                \n",
      " 9   time_waiting         45730 non-null  int64                                \n",
      "dtypes: bool(2), datetime64[ns, pytz.FixedOffset(180)](1), int64(6), object(1)\n",
      "memory usage: 3.2+ MB\n"
     ]
    }
   ],
   "source": [
    "# mostramos la información general del dataframe\n",
    "telecom_dataset_us_notna.info()"
   ]
  },
  {
   "cell_type": "markdown",
   "metadata": {},
   "source": [
    "### Valores duplicados"
   ]
  },
  {
   "cell_type": "code",
   "execution_count": 257,
   "metadata": {},
   "outputs": [
    {
     "data": {
      "text/plain": [
       "0"
      ]
     },
     "execution_count": 257,
     "metadata": {},
     "output_type": "execute_result"
    }
   ],
   "source": [
    "# buscamos valores nulos en los registros de los usuarios\n",
    "telecom_clients_us.duplicated().sum()"
   ]
  },
  {
   "cell_type": "code",
   "execution_count": 258,
   "metadata": {},
   "outputs": [
    {
     "data": {
      "text/plain": [
       "4184"
      ]
     },
     "execution_count": 258,
     "metadata": {},
     "output_type": "execute_result"
    }
   ],
   "source": [
    "# buscamos valores nulos en los registros de los operadores\n",
    "telecom_dataset_us_notna.duplicated().sum()"
   ]
  },
  {
   "cell_type": "code",
   "execution_count": 259,
   "metadata": {},
   "outputs": [],
   "source": [
    "# eliminamos los registros duplicados en el dataframe de los operadores sin valores nulos\n",
    "telecom_dataset_us_notna.drop_duplicates(inplace=True)"
   ]
  },
  {
   "cell_type": "code",
   "execution_count": 260,
   "metadata": {},
   "outputs": [
    {
     "data": {
      "text/plain": [
       "0"
      ]
     },
     "execution_count": 260,
     "metadata": {},
     "output_type": "execute_result"
    }
   ],
   "source": [
    "# verificamos que se hayan eliminado los duplicados\n",
    "telecom_dataset_us_notna.duplicated().sum()"
   ]
  },
  {
   "cell_type": "code",
   "execution_count": 261,
   "metadata": {},
   "outputs": [
    {
     "data": {
      "text/plain": [
       "(41546, 10)"
      ]
     },
     "execution_count": 261,
     "metadata": {},
     "output_type": "execute_result"
    }
   ],
   "source": [
    "# veamos el tamaño total del último dataframe creado para realizar los análisis\n",
    "telecom_dataset_us_notna.shape"
   ]
  },
  {
   "cell_type": "markdown",
   "metadata": {},
   "source": [
    "Este último dataframe ya no contiene valores nulos ni duplicados y cada columna tiene el tipo de datos correcto. Podemos ahora proceder a realizar un análisis exploratorio. Hemos perdido en total $\\frac{12356}{53902} x 100=22.9\\% $ de la información."
   ]
  },
  {
   "cell_type": "markdown",
   "metadata": {},
   "source": [
    "## Análisis exploratorio "
   ]
  },
  {
   "cell_type": "code",
   "execution_count": 262,
   "metadata": {},
   "outputs": [],
   "source": [
    "# creamos una lista con las variables a observar su distribución\n",
    "variables=['calls_count','call_duration','total_call_duration','time_waiting']"
   ]
  },
  {
   "cell_type": "code",
   "execution_count": 263,
   "metadata": {},
   "outputs": [
    {
     "data": {
      "text/html": [
       "<div>\n",
       "<style scoped>\n",
       "    .dataframe tbody tr th:only-of-type {\n",
       "        vertical-align: middle;\n",
       "    }\n",
       "\n",
       "    .dataframe tbody tr th {\n",
       "        vertical-align: top;\n",
       "    }\n",
       "\n",
       "    .dataframe thead th {\n",
       "        text-align: right;\n",
       "    }\n",
       "</style>\n",
       "<table border=\"1\" class=\"dataframe\">\n",
       "  <thead>\n",
       "    <tr style=\"text-align: right;\">\n",
       "      <th></th>\n",
       "      <th>count</th>\n",
       "      <th>mean</th>\n",
       "      <th>std</th>\n",
       "      <th>min</th>\n",
       "      <th>25%</th>\n",
       "      <th>50%</th>\n",
       "      <th>75%</th>\n",
       "      <th>max</th>\n",
       "    </tr>\n",
       "  </thead>\n",
       "  <tbody>\n",
       "    <tr>\n",
       "      <th>calls_count</th>\n",
       "      <td>41546.0</td>\n",
       "      <td>16.900424</td>\n",
       "      <td>59.749373</td>\n",
       "      <td>1.0</td>\n",
       "      <td>1.0</td>\n",
       "      <td>4.0</td>\n",
       "      <td>13.0</td>\n",
       "      <td>4817.0</td>\n",
       "    </tr>\n",
       "    <tr>\n",
       "      <th>call_duration</th>\n",
       "      <td>41546.0</td>\n",
       "      <td>1009.769172</td>\n",
       "      <td>4064.106117</td>\n",
       "      <td>0.0</td>\n",
       "      <td>0.0</td>\n",
       "      <td>106.0</td>\n",
       "      <td>770.0</td>\n",
       "      <td>144395.0</td>\n",
       "    </tr>\n",
       "    <tr>\n",
       "      <th>total_call_duration</th>\n",
       "      <td>41546.0</td>\n",
       "      <td>1321.592813</td>\n",
       "      <td>4785.978633</td>\n",
       "      <td>0.0</td>\n",
       "      <td>67.0</td>\n",
       "      <td>288.0</td>\n",
       "      <td>1104.0</td>\n",
       "      <td>166155.0</td>\n",
       "    </tr>\n",
       "    <tr>\n",
       "      <th>time_waiting</th>\n",
       "      <td>41546.0</td>\n",
       "      <td>311.823641</td>\n",
       "      <td>1175.373073</td>\n",
       "      <td>0.0</td>\n",
       "      <td>19.0</td>\n",
       "      <td>60.0</td>\n",
       "      <td>219.0</td>\n",
       "      <td>46474.0</td>\n",
       "    </tr>\n",
       "  </tbody>\n",
       "</table>\n",
       "</div>"
      ],
      "text/plain": [
       "                       count         mean          std  min   25%    50%  \\\n",
       "calls_count          41546.0    16.900424    59.749373  1.0   1.0    4.0   \n",
       "call_duration        41546.0  1009.769172  4064.106117  0.0   0.0  106.0   \n",
       "total_call_duration  41546.0  1321.592813  4785.978633  0.0  67.0  288.0   \n",
       "time_waiting         41546.0   311.823641  1175.373073  0.0  19.0   60.0   \n",
       "\n",
       "                        75%       max  \n",
       "calls_count            13.0    4817.0  \n",
       "call_duration         770.0  144395.0  \n",
       "total_call_duration  1104.0  166155.0  \n",
       "time_waiting          219.0   46474.0  "
      ]
     },
     "execution_count": 263,
     "metadata": {},
     "output_type": "execute_result"
    }
   ],
   "source": [
    "# veamos información general de las variables 'calls_count','call_duration' y 'total_call_duration'\n",
    "telecom_dataset_us_notna[variables].describe().T"
   ]
  },
  {
   "cell_type": "markdown",
   "metadata": {},
   "source": [
    "\n",
    "La gran disparidad entre las medias y las medianas sugiere la presencia de valores atípicos en las variables, lo que a su vez indica que la distribución de los datos es asimétrica hacia la derecha. Esto significa que hay valores extremadamente altos que están estirando la distribución hacia la derecha, haciendo que la media sea mayor que la mediana y provocando que la gráfica tenga una cola más larga en ese lado, mientras que la parte central se inclina hacia la izquierda."
   ]
  },
  {
   "cell_type": "code",
   "execution_count": 264,
   "metadata": {},
   "outputs": [
    {
     "name": "stdout",
     "output_type": "stream",
     "text": [
      "Limite-inferior: -17.00     Limite-superior: 31.00\n"
     ]
    },
    {
     "data": {
      "image/png": "[encoded data removed]",
      "text/plain": [
       "<Figure size 720x360 with 2 Axes>"
      ]
     },
     "metadata": {
      "needs_background": "light"
     },
     "output_type": "display_data"
    },
    {
     "name": "stdout",
     "output_type": "stream",
     "text": [
      "Limite-inferior: -1155.00     Limite-superior: 1925.00\n"
     ]
    },
    {
     "data": {
      "image/png": "[encoded data removed]",
      "text/plain": [
       "<Figure size 720x360 with 2 Axes>"
      ]
     },
     "metadata": {
      "needs_background": "light"
     },
     "output_type": "display_data"
    },
    {
     "name": "stdout",
     "output_type": "stream",
     "text": [
      "Limite-inferior: -1488.50     Limite-superior: 2659.50\n"
     ]
    },
    {
     "data": {
      "image/png": "[encoded data removed]",
      "text/plain": [
       "<Figure size 720x360 with 2 Axes>"
      ]
     },
     "metadata": {
      "needs_background": "light"
     },
     "output_type": "display_data"
    },
    {
     "name": "stdout",
     "output_type": "stream",
     "text": [
      "Limite-inferior: -281.00     Limite-superior: 519.00\n"
     ]
    },
    {
     "data": {
      "image/png": "[encoded data removed]",
      "text/plain": [
       "<Figure size 720x360 with 2 Axes>"
      ]
     },
     "metadata": {
      "needs_background": "light"
     },
     "output_type": "display_data"
    }
   ],
   "source": [
    "# creamos los gráficos 'boxplot' que incluyen los valores teóricos de los bigotes\n",
    "for var in variables:\n",
    "    Q1 = telecom_dataset_us_notna[var].quantile(0.25)\n",
    "    Q3 = telecom_dataset_us_notna[var].quantile(0.75)\n",
    "    \n",
    "    # rango intercuantílico\n",
    "    IQR=Q3-Q1\n",
    "    # bigote superior Q3+1.5*IQR\n",
    "    # bigote inferior Q1-1.5*IQR\n",
    "    titulo=str(var)\n",
    "    print(f'Limite-inferior: {Q1-1.5*IQR:.2f}     Limite-superior: {Q3+1.5*IQR:.2f}')  \n",
    "    fig, ax = plt.subplots(2,sharex=True,\n",
    "                     gridspec_kw={\"height_ratios\": (.20, .80)},figsize=(10,5))\n",
    "    \n",
    "    # gráfico boxplot\n",
    "    sns.boxplot(x=var,data=telecom_dataset_us_notna,ax=ax[0],palette='YlGnBu_r',\\\n",
    "                   showmeans=True,meanprops={\"marker\": \"+\",\"markeredgecolor\": \"green\",\"markersize\": \"10\"})\n",
    "    ax[0].axvline(x=Q1-1.5*IQR,color='red')\n",
    "    ax[0].axvline(x=Q3+1.5*IQR,color='red')\n",
    "    ax[0].set(xlabel=None)\n",
    "    ax[0].set(title='Gráfico de distribución de '+titulo)\n",
    "    \n",
    "    # gráfico de distribución\n",
    "    sns.histplot(telecom_dataset_us_notna[var],bins=100,ax=ax[1])\n",
    "    plt.xlim(0,30*Q3)\n",
    "    #plt.title('Valores teóricos de los limites de '+titulo)\n",
    "    plt.show()"
   ]
  },
  {
   "cell_type": "markdown",
   "metadata": {},
   "source": [
    "De los gráficos anteriores podemos notar que las variables `'calls_count'`, `'call_duration'`, `'total_call_duration'` y `'time_waiting'` presentan distribuciones con asimetría positiva y muchos valores outliers."
   ]
  },
  {
   "cell_type": "code",
   "execution_count": 265,
   "metadata": {},
   "outputs": [],
   "source": [
    "# veamos ahora el comportamiento de las variables 'direction', 'internal' y 'is_missed_call'\n",
    "categoricas=['direction','internal','is_missed_call']"
   ]
  },
  {
   "cell_type": "code",
   "execution_count": 266,
   "metadata": {},
   "outputs": [],
   "source": [
    "def plot_categorical(data, variable):\n",
    "    \"\"\"\n",
    "    data: DataFrame que contiene registros de usuarios.\n",
    "    variable: Variable categórica de la que se desean obtener las frecuencias.\n",
    "    \"\"\"\n",
    "    # Agrupamos y obtenemos las frecuencias\n",
    "    grouped = data[variable].value_counts(normalize=True).reset_index()\n",
    "    grouped.columns = ['Categoría', 'Frecuencia']\n",
    "\n",
    "    # Creamos el gráfico de barras\n",
    "    plt.figure(figsize=(4, 4))\n",
    "    sns.barplot(data=grouped, x='Categoría', y='Frecuencia')\n",
    "\n",
    "    # Etiquetar las barras\n",
    "    for rect in plt.gca().patches:\n",
    "        x_value = rect.get_x() + rect.get_width() / 2\n",
    "        y_value = rect.get_height()\n",
    "        space = 3\n",
    "        label = \"{:.1%}\".format(y_value)\n",
    "        plt.annotate(label, (x_value, y_value), xytext=(0, space), textcoords=\"offset points\", ha='center', va='bottom', rotation=45)\n",
    "\n",
    "    plt.ylim(0, grouped['Frecuencia'].max() * 1.3)\n",
    "    plt.title('Gráfico de ' + variable)\n",
    "    plt.show()"
   ]
  },
  {
   "cell_type": "code",
   "execution_count": 267,
   "metadata": {},
   "outputs": [
    {
     "data": {
      "image/png": "[encoded data removed]",
      "text/plain": [
       "<Figure size 288x288 with 1 Axes>"
      ]
     },
     "metadata": {
      "needs_background": "light"
     },
     "output_type": "display_data"
    }
   ],
   "source": [
    "# creamos la gráfica para 'direction'\n",
    "plot_categorical(data=telecom_dataset_us_notna,variable='direction')"
   ]
  },
  {
   "cell_type": "markdown",
   "metadata": {},
   "source": [
    "Tenemos que un 69.4% de las llamadas son salientes y solo un 30.6% son entrantes."
   ]
  },
  {
   "cell_type": "code",
   "execution_count": 268,
   "metadata": {},
   "outputs": [
    {
     "data": {
      "image/png": "[encoded data removed]",
      "text/plain": [
       "<Figure size 288x288 with 1 Axes>"
      ]
     },
     "metadata": {
      "needs_background": "light"
     },
     "output_type": "display_data"
    }
   ],
   "source": [
    "# creamos la gráfica para 'internal'\n",
    "plot_categorical(data=telecom_dataset_us_notna,variable='internal')"
   ]
  },
  {
   "cell_type": "markdown",
   "metadata": {},
   "source": [
    "Solo 12.8% de las llamadas son realizadas entre los operadores."
   ]
  },
  {
   "cell_type": "code",
   "execution_count": 269,
   "metadata": {},
   "outputs": [
    {
     "data": {
      "image/png": "[encoded data removed]",
      "text/plain": [
       "<Figure size 288x288 with 1 Axes>"
      ]
     },
     "metadata": {
      "needs_background": "light"
     },
     "output_type": "display_data"
    }
   ],
   "source": [
    "# creamos la gráfica para 'is_missed_call'\n",
    "plot_categorical(data=telecom_dataset_us_notna,variable='is_missed_call')"
   ]
  },
  {
   "cell_type": "markdown",
   "metadata": {},
   "source": [
    "El 34% de las llamadas son llamadas perdidas."
   ]
  },
  {
   "cell_type": "markdown",
   "metadata": {},
   "source": [
    "## Estadísticas para los operadores "
   ]
  },
  {
   "cell_type": "code",
   "execution_count": 270,
   "metadata": {},
   "outputs": [
    {
     "data": {
      "text/html": [
       "<div>\n",
       "<style scoped>\n",
       "    .dataframe tbody tr th:only-of-type {\n",
       "        vertical-align: middle;\n",
       "    }\n",
       "\n",
       "    .dataframe tbody tr th {\n",
       "        vertical-align: top;\n",
       "    }\n",
       "\n",
       "    .dataframe thead th {\n",
       "        text-align: right;\n",
       "    }\n",
       "</style>\n",
       "<table border=\"1\" class=\"dataframe\">\n",
       "  <thead>\n",
       "    <tr style=\"text-align: right;\">\n",
       "      <th></th>\n",
       "      <th>operator_id</th>\n",
       "      <th>direction</th>\n",
       "      <th>calls_count</th>\n",
       "      <th>call_duration</th>\n",
       "      <th>is_missed_call</th>\n",
       "      <th>time_waiting</th>\n",
       "      <th>mean_duration</th>\n",
       "      <th>mean_waiting</th>\n",
       "    </tr>\n",
       "  </thead>\n",
       "  <tbody>\n",
       "    <tr>\n",
       "      <th>432</th>\n",
       "      <td>944648</td>\n",
       "      <td>out</td>\n",
       "      <td>41</td>\n",
       "      <td>2388</td>\n",
       "      <td>10</td>\n",
       "      <td>432</td>\n",
       "      <td>58.243902</td>\n",
       "      <td>10.536585</td>\n",
       "    </tr>\n",
       "    <tr>\n",
       "      <th>211</th>\n",
       "      <td>890618</td>\n",
       "      <td>out</td>\n",
       "      <td>270</td>\n",
       "      <td>17167</td>\n",
       "      <td>22</td>\n",
       "      <td>5791</td>\n",
       "      <td>63.581481</td>\n",
       "      <td>21.448148</td>\n",
       "    </tr>\n",
       "    <tr>\n",
       "      <th>887</th>\n",
       "      <td>960620</td>\n",
       "      <td>in</td>\n",
       "      <td>50</td>\n",
       "      <td>4534</td>\n",
       "      <td>1</td>\n",
       "      <td>748</td>\n",
       "      <td>90.680000</td>\n",
       "      <td>14.960000</td>\n",
       "    </tr>\n",
       "    <tr>\n",
       "      <th>242</th>\n",
       "      <td>939684</td>\n",
       "      <td>out</td>\n",
       "      <td>131</td>\n",
       "      <td>7367</td>\n",
       "      <td>20</td>\n",
       "      <td>1669</td>\n",
       "      <td>56.236641</td>\n",
       "      <td>12.740458</td>\n",
       "    </tr>\n",
       "    <tr>\n",
       "      <th>676</th>\n",
       "      <td>887992</td>\n",
       "      <td>out</td>\n",
       "      <td>47</td>\n",
       "      <td>971</td>\n",
       "      <td>3</td>\n",
       "      <td>680</td>\n",
       "      <td>20.659574</td>\n",
       "      <td>14.468085</td>\n",
       "    </tr>\n",
       "  </tbody>\n",
       "</table>\n",
       "</div>"
      ],
      "text/plain": [
       "     operator_id direction  calls_count  call_duration  is_missed_call  \\\n",
       "432       944648       out           41           2388              10   \n",
       "211       890618       out          270          17167              22   \n",
       "887       960620        in           50           4534               1   \n",
       "242       939684       out          131           7367              20   \n",
       "676       887992       out           47            971               3   \n",
       "\n",
       "     time_waiting  mean_duration  mean_waiting  \n",
       "432           432      58.243902     10.536585  \n",
       "211          5791      63.581481     21.448148  \n",
       "887           748      90.680000     14.960000  \n",
       "242          1669      56.236641     12.740458  \n",
       "676           680      20.659574     14.468085  "
      ]
     },
     "execution_count": 270,
     "metadata": {},
     "output_type": "execute_result"
    }
   ],
   "source": [
    "# Agrupamos todas las llamadas por operador\n",
    "calls_by_operator = telecom_dataset_us_notna.groupby(['operator_id', 'direction']).agg({\n",
    "    'calls_count': 'sum',\n",
    "    'call_duration': 'sum',\n",
    "    'is_missed_call': 'sum',\n",
    "    'time_waiting': 'sum'\n",
    "}).sort_values(['is_missed_call', 'time_waiting'], ascending=False).reset_index()\n",
    "\n",
    "# Calculamos la duración promedio por llamada\n",
    "calls_by_operator['mean_duration'] = calls_by_operator['call_duration'] / calls_by_operator['calls_count']\n",
    "\n",
    "# Calculamos el tiempo promedio de espera por llamada\n",
    "calls_by_operator['mean_waiting'] = calls_by_operator['time_waiting'] / calls_by_operator['calls_count']\n",
    "\n",
    "# Mostramos una muestra aleatoria de 5 filas\n",
    "calls_by_operator.sample(5)"
   ]
  },
  {
   "cell_type": "markdown",
   "metadata": {},
   "source": [
    "### Distribución de las llamadas entrantes pérdidas"
   ]
  },
  {
   "cell_type": "code",
   "execution_count": 271,
   "metadata": {},
   "outputs": [
    {
     "data": {
      "text/html": [
       "<div>\n",
       "<style scoped>\n",
       "    .dataframe tbody tr th:only-of-type {\n",
       "        vertical-align: middle;\n",
       "    }\n",
       "\n",
       "    .dataframe tbody tr th {\n",
       "        vertical-align: top;\n",
       "    }\n",
       "\n",
       "    .dataframe thead th {\n",
       "        text-align: right;\n",
       "    }\n",
       "</style>\n",
       "<table border=\"1\" class=\"dataframe\">\n",
       "  <thead>\n",
       "    <tr style=\"text-align: right;\">\n",
       "      <th></th>\n",
       "      <th>operator_id</th>\n",
       "      <th>calls_count</th>\n",
       "      <th>call_duration</th>\n",
       "      <th>is_missed_call</th>\n",
       "      <th>time_waiting</th>\n",
       "      <th>mean_duration</th>\n",
       "      <th>mean_waiting</th>\n",
       "    </tr>\n",
       "  </thead>\n",
       "  <tbody>\n",
       "    <tr>\n",
       "      <th>count</th>\n",
       "      <td>754.000000</td>\n",
       "      <td>754.000000</td>\n",
       "      <td>754.000000</td>\n",
       "      <td>754.000000</td>\n",
       "      <td>754.000000</td>\n",
       "      <td>754.000000</td>\n",
       "      <td>754.000000</td>\n",
       "    </tr>\n",
       "    <tr>\n",
       "      <th>mean</th>\n",
       "      <td>923704.400531</td>\n",
       "      <td>124.405836</td>\n",
       "      <td>12631.314324</td>\n",
       "      <td>0.908488</td>\n",
       "      <td>1635.656499</td>\n",
       "      <td>102.161798</td>\n",
       "      <td>17.491612</td>\n",
       "    </tr>\n",
       "    <tr>\n",
       "      <th>std</th>\n",
       "      <td>22646.733795</td>\n",
       "      <td>356.450649</td>\n",
       "      <td>34048.272424</td>\n",
       "      <td>2.405363</td>\n",
       "      <td>4637.607919</td>\n",
       "      <td>103.592874</td>\n",
       "      <td>12.171988</td>\n",
       "    </tr>\n",
       "    <tr>\n",
       "      <th>min</th>\n",
       "      <td>879896.000000</td>\n",
       "      <td>1.000000</td>\n",
       "      <td>1.000000</td>\n",
       "      <td>0.000000</td>\n",
       "      <td>1.000000</td>\n",
       "      <td>1.000000</td>\n",
       "      <td>0.683673</td>\n",
       "    </tr>\n",
       "    <tr>\n",
       "      <th>25%</th>\n",
       "      <td>905153.000000</td>\n",
       "      <td>4.000000</td>\n",
       "      <td>226.250000</td>\n",
       "      <td>0.000000</td>\n",
       "      <td>62.000000</td>\n",
       "      <td>50.153237</td>\n",
       "      <td>9.398782</td>\n",
       "    </tr>\n",
       "    <tr>\n",
       "      <th>50%</th>\n",
       "      <td>924580.000000</td>\n",
       "      <td>17.000000</td>\n",
       "      <td>1480.500000</td>\n",
       "      <td>0.000000</td>\n",
       "      <td>255.000000</td>\n",
       "      <td>86.291667</td>\n",
       "      <td>14.430502</td>\n",
       "    </tr>\n",
       "    <tr>\n",
       "      <th>75%</th>\n",
       "      <td>940457.500000</td>\n",
       "      <td>78.750000</td>\n",
       "      <td>8097.750000</td>\n",
       "      <td>1.000000</td>\n",
       "      <td>1064.250000</td>\n",
       "      <td>126.035088</td>\n",
       "      <td>21.838889</td>\n",
       "    </tr>\n",
       "    <tr>\n",
       "      <th>max</th>\n",
       "      <td>973286.000000</td>\n",
       "      <td>4766.000000</td>\n",
       "      <td>397079.000000</td>\n",
       "      <td>28.000000</td>\n",
       "      <td>52875.000000</td>\n",
       "      <td>1799.000000</td>\n",
       "      <td>115.500000</td>\n",
       "    </tr>\n",
       "  </tbody>\n",
       "</table>\n",
       "</div>"
      ],
      "text/plain": [
       "         operator_id  calls_count  call_duration  is_missed_call  \\\n",
       "count     754.000000   754.000000     754.000000      754.000000   \n",
       "mean   923704.400531   124.405836   12631.314324        0.908488   \n",
       "std     22646.733795   356.450649   34048.272424        2.405363   \n",
       "min    879896.000000     1.000000       1.000000        0.000000   \n",
       "25%    905153.000000     4.000000     226.250000        0.000000   \n",
       "50%    924580.000000    17.000000    1480.500000        0.000000   \n",
       "75%    940457.500000    78.750000    8097.750000        1.000000   \n",
       "max    973286.000000  4766.000000  397079.000000       28.000000   \n",
       "\n",
       "       time_waiting  mean_duration  mean_waiting  \n",
       "count    754.000000     754.000000    754.000000  \n",
       "mean    1635.656499     102.161798     17.491612  \n",
       "std     4637.607919     103.592874     12.171988  \n",
       "min        1.000000       1.000000      0.683673  \n",
       "25%       62.000000      50.153237      9.398782  \n",
       "50%      255.000000      86.291667     14.430502  \n",
       "75%     1064.250000     126.035088     21.838889  \n",
       "max    52875.000000    1799.000000    115.500000  "
      ]
     },
     "execution_count": 271,
     "metadata": {},
     "output_type": "execute_result"
    }
   ],
   "source": [
    "# obtengamos información general del set de datos de las llamadas entrantes pérdidas\n",
    "calls_in_missed_operator=calls_by_operator.query('direction==\"in\"')\n",
    "calls_in_missed_operator.describe()"
   ]
  },
  {
   "cell_type": "code",
   "execution_count": 272,
   "metadata": {},
   "outputs": [
    {
     "data": {
      "text/plain": [
       "array([ 2.  ,  4.35,  5.  , 11.47])"
      ]
     },
     "execution_count": 272,
     "metadata": {},
     "output_type": "execute_result"
    }
   ],
   "source": [
    "# obtenemos percentiles para la cantidad de llamadas entrantes pérdidas\n",
    "np.percentile(calls_in_missed_operator['is_missed_call'],[90,95,96,99])"
   ]
  },
  {
   "cell_type": "code",
   "execution_count": 273,
   "metadata": {},
   "outputs": [
    {
     "data": {
      "image/png": "[encoded data removed]",
      "text/plain": [
       "<Figure size 432x360 with 1 Axes>"
      ]
     },
     "metadata": {
      "needs_background": "light"
     },
     "output_type": "display_data"
    }
   ],
   "source": [
    "# veamos la distribución de las llamadas entrantes pérdidas\n",
    "fig,ax=plt.subplots(figsize=(6,5))\n",
    "sns.histplot(calls_in_missed_operator['is_missed_call'],bins=30)\n",
    "plt.xlabel('count_is_missed_call')\n",
    "plt.ylabel('count_operator')\n",
    "plt.title('Distribución del número de llamadas entrantes pérdidas')\n",
    "plt.show()"
   ]
  },
  {
   "cell_type": "markdown",
   "metadata": {},
   "source": [
    "\n",
    "Podemos notar que la mayoría de los operadores tienen pocas llamadas entrantes perdidas, mientras que solo un pequeño número de operadores experimenta un alto volumen de llamadas perdidas. Para definir cuándo considerar a un operador como ineficiente, proponemos establecer un umbral mínimo de seis llamadas entrantes perdidas. Es importante destacar que el 96% de los operadores tienen cinco o menos llamadas perdidas, lo que refleja una eficiencia en su desempeño."
   ]
  },
  {
   "cell_type": "markdown",
   "metadata": {},
   "source": [
    "### Distribución de tiempo promedio de espera de llamadas"
   ]
  },
  {
   "cell_type": "code",
   "execution_count": 274,
   "metadata": {},
   "outputs": [
    {
     "data": {
      "text/plain": [
       "array([33.87011583, 41.57923977, 55.38205128])"
      ]
     },
     "execution_count": 274,
     "metadata": {},
     "output_type": "execute_result"
    }
   ],
   "source": [
    "# obtenemos percentiles para el tiempo promedio de espera para las llamadas entrantes\n",
    "np.percentile(calls_in_missed_operator['mean_waiting'],[90,95,99])"
   ]
  },
  {
   "cell_type": "code",
   "execution_count": 275,
   "metadata": {},
   "outputs": [
    {
     "data": {
      "image/png": "[encoded data removed]",
      "text/plain": [
       "<Figure size 432x360 with 1 Axes>"
      ]
     },
     "metadata": {
      "needs_background": "light"
     },
     "output_type": "display_data"
    }
   ],
   "source": [
    "# veamos la distribución del tiempo promedio de espera para las llamadas entrantes\n",
    "fig,ax=plt.subplots(figsize=(6,5))\n",
    "sns.histplot(calls_in_missed_operator['mean_waiting'],bins=30)\n",
    "plt.title('Distribución del tiempo promedio de espera para las llamadas entrantes')\n",
    "plt.show()"
   ]
  },
  {
   "cell_type": "markdown",
   "metadata": {},
   "source": [
    "Podemos observar que hay muy pocos operadores cuyo tiempo promedio de espera para las llamadas entrantes es mayor a 41.57. **Definamos a los operadores cuyo tiempo promedio de espera es mayor a 41.57 como un operador ineficiente.**"
   ]
  },
  {
   "cell_type": "markdown",
   "metadata": {},
   "source": [
    "**Teniendo en cuenta las dos condiciones anteriores:**\n",
    "\n",
    "1. Llamadas entrantes mayor a 6\n",
    "\n",
    "2. Tiempo promedio de espera mayor a 41.57\n",
    "\n",
    "Determinaremos a un operador como ineficiente."
   ]
  },
  {
   "cell_type": "markdown",
   "metadata": {},
   "source": [
    "### Distribución de las llamadas salientes"
   ]
  },
  {
   "cell_type": "code",
   "execution_count": 276,
   "metadata": {},
   "outputs": [
    {
     "data": {
      "text/html": [
       "<div>\n",
       "<style scoped>\n",
       "    .dataframe tbody tr th:only-of-type {\n",
       "        vertical-align: middle;\n",
       "    }\n",
       "\n",
       "    .dataframe tbody tr th {\n",
       "        vertical-align: top;\n",
       "    }\n",
       "\n",
       "    .dataframe thead th {\n",
       "        text-align: right;\n",
       "    }\n",
       "</style>\n",
       "<table border=\"1\" class=\"dataframe\">\n",
       "  <thead>\n",
       "    <tr style=\"text-align: right;\">\n",
       "      <th></th>\n",
       "      <th>operator_id</th>\n",
       "      <th>calls_count</th>\n",
       "      <th>call_duration</th>\n",
       "      <th>is_missed_call</th>\n",
       "      <th>time_waiting</th>\n",
       "      <th>mean_duration</th>\n",
       "      <th>mean_waiting</th>\n",
       "    </tr>\n",
       "  </thead>\n",
       "  <tbody>\n",
       "    <tr>\n",
       "      <th>count</th>\n",
       "      <td>882.000000</td>\n",
       "      <td>882.000000</td>\n",
       "      <td>8.820000e+02</td>\n",
       "      <td>882.000000</td>\n",
       "      <td>8.820000e+02</td>\n",
       "      <td>882.000000</td>\n",
       "      <td>882.000000</td>\n",
       "    </tr>\n",
       "    <tr>\n",
       "      <th>mean</th>\n",
       "      <td>925658.340136</td>\n",
       "      <td>689.731293</td>\n",
       "      <td>3.676628e+04</td>\n",
       "      <td>15.221088</td>\n",
       "      <td>1.328995e+04</td>\n",
       "      <td>61.727551</td>\n",
       "      <td>15.007958</td>\n",
       "    </tr>\n",
       "    <tr>\n",
       "      <th>std</th>\n",
       "      <td>22862.558731</td>\n",
       "      <td>3122.953946</td>\n",
       "      <td>1.890289e+05</td>\n",
       "      <td>18.549008</td>\n",
       "      <td>7.093113e+04</td>\n",
       "      <td>81.385731</td>\n",
       "      <td>6.755690</td>\n",
       "    </tr>\n",
       "    <tr>\n",
       "      <th>min</th>\n",
       "      <td>879896.000000</td>\n",
       "      <td>1.000000</td>\n",
       "      <td>0.000000e+00</td>\n",
       "      <td>0.000000</td>\n",
       "      <td>0.000000e+00</td>\n",
       "      <td>0.000000</td>\n",
       "      <td>0.000000</td>\n",
       "    </tr>\n",
       "    <tr>\n",
       "      <th>25%</th>\n",
       "      <td>906394.500000</td>\n",
       "      <td>11.000000</td>\n",
       "      <td>3.470000e+02</td>\n",
       "      <td>2.000000</td>\n",
       "      <td>1.330000e+02</td>\n",
       "      <td>21.478459</td>\n",
       "      <td>10.253906</td>\n",
       "    </tr>\n",
       "    <tr>\n",
       "      <th>50%</th>\n",
       "      <td>924959.000000</td>\n",
       "      <td>90.000000</td>\n",
       "      <td>5.773500e+03</td>\n",
       "      <td>8.000000</td>\n",
       "      <td>1.314500e+03</td>\n",
       "      <td>45.719303</td>\n",
       "      <td>15.348039</td>\n",
       "    </tr>\n",
       "    <tr>\n",
       "      <th>75%</th>\n",
       "      <td>943630.000000</td>\n",
       "      <td>597.250000</td>\n",
       "      <td>3.134400e+04</td>\n",
       "      <td>21.000000</td>\n",
       "      <td>1.025650e+04</td>\n",
       "      <td>76.291820</td>\n",
       "      <td>19.245915</td>\n",
       "    </tr>\n",
       "    <tr>\n",
       "      <th>max</th>\n",
       "      <td>973120.000000</td>\n",
       "      <td>58977.000000</td>\n",
       "      <td>4.304731e+06</td>\n",
       "      <td>117.000000</td>\n",
       "      <td>1.431696e+06</td>\n",
       "      <td>1306.000000</td>\n",
       "      <td>60.000000</td>\n",
       "    </tr>\n",
       "  </tbody>\n",
       "</table>\n",
       "</div>"
      ],
      "text/plain": [
       "         operator_id   calls_count  call_duration  is_missed_call  \\\n",
       "count     882.000000    882.000000   8.820000e+02      882.000000   \n",
       "mean   925658.340136    689.731293   3.676628e+04       15.221088   \n",
       "std     22862.558731   3122.953946   1.890289e+05       18.549008   \n",
       "min    879896.000000      1.000000   0.000000e+00        0.000000   \n",
       "25%    906394.500000     11.000000   3.470000e+02        2.000000   \n",
       "50%    924959.000000     90.000000   5.773500e+03        8.000000   \n",
       "75%    943630.000000    597.250000   3.134400e+04       21.000000   \n",
       "max    973120.000000  58977.000000   4.304731e+06      117.000000   \n",
       "\n",
       "       time_waiting  mean_duration  mean_waiting  \n",
       "count  8.820000e+02     882.000000    882.000000  \n",
       "mean   1.328995e+04      61.727551     15.007958  \n",
       "std    7.093113e+04      81.385731      6.755690  \n",
       "min    0.000000e+00       0.000000      0.000000  \n",
       "25%    1.330000e+02      21.478459     10.253906  \n",
       "50%    1.314500e+03      45.719303     15.348039  \n",
       "75%    1.025650e+04      76.291820     19.245915  \n",
       "max    1.431696e+06    1306.000000     60.000000  "
      ]
     },
     "execution_count": 276,
     "metadata": {},
     "output_type": "execute_result"
    }
   ],
   "source": [
    "# obtengamos información general del set de datos de las llamadas salientes\n",
    "calls_out_operator=calls_by_operator.query('direction==\"out\"')\n",
    "calls_out_operator.describe()"
   ]
  },
  {
   "cell_type": "code",
   "execution_count": 277,
   "metadata": {},
   "outputs": [
    {
     "data": {
      "text/plain": [
       "array([ 1.,  3.,  5.,  8., 11.])"
      ]
     },
     "execution_count": 277,
     "metadata": {},
     "output_type": "execute_result"
    }
   ],
   "source": [
    "# obtenemos percentiles para la cantidad de llamadas salientes\n",
    "np.percentile(calls_out_operator['calls_count'],[5,10,15,20,25])"
   ]
  },
  {
   "cell_type": "code",
   "execution_count": 278,
   "metadata": {},
   "outputs": [
    {
     "name": "stdout",
     "output_type": "stream",
     "text": [
      "Límite inferior: -868.38   Límite superior: 1476.62\n"
     ]
    },
    {
     "data": {
      "image/png": "[encoded data removed]",
      "text/plain": [
       "<Figure size 720x360 with 2 Axes>"
      ]
     },
     "metadata": {
      "needs_background": "light"
     },
     "output_type": "display_data"
    }
   ],
   "source": [
    "# Calculamos los cuartiles Q1 y Q3\n",
    "Q1 = calls_out_operator['calls_count'].quantile(0.25)\n",
    "Q3 = calls_out_operator['calls_count'].quantile(0.75)\n",
    "\n",
    "# Calculamos el rango intercuartílico (IQR)\n",
    "IQR = Q3 - Q1\n",
    "\n",
    "# Definimos los límites para los bigotes del gráfico\n",
    "limite_inferior = Q1 - 1.5 * IQR\n",
    "limite_superior = Q3 + 1.5 * IQR\n",
    "\n",
    "print(f'Límite inferior: {limite_inferior:.2f}   Límite superior: {limite_superior:.2f}')\n",
    "\n",
    "# Creamos el gráfico de caja y bigotes\n",
    "fig, ax = plt.subplots(2, sharex=True, gridspec_kw={\"height_ratios\": (.20, .80)}, figsize=(10, 5))\n",
    "sns.boxplot(x='calls_count', data=calls_out_operator, ax=ax[0], palette='YlGnBu_r', showmeans=True,\n",
    "            meanprops={\"marker\": \"+\", \"markeredgecolor\": \"green\", \"markersize\": \"10\"})\n",
    "ax[0].axvline(x=limite_inferior, color='red')\n",
    "ax[0].axvline(x=limite_superior, color='red')\n",
    "ax[0].set(xlabel=None, title='Distribución del número de llamadas salientes')\n",
    "\n",
    "# Creamos el gráfico de distribución\n",
    "sns.histplot(calls_out_operator['calls_count'], bins=100, ax=ax[1])\n",
    "plt.xlim(0, 30 * Q3)\n",
    "plt.show()"
   ]
  },
  {
   "cell_type": "markdown",
   "metadata": {},
   "source": [
    "En el gráfico anterior, es evidente que la mayoría de los operadores realizan un número relativamente bajo de llamadas salientes. De hecho, aproximadamente el 15% de los operadores realizan no más de cinco llamadas salientes.\n",
    "\n",
    "Además, la distribución de las llamadas salientes entre los operadores exhibe valores atípicos o outliers, lo que significa que hay algunos operadores que realizan un número significativamente mayor de llamadas salientes en comparación con la mayoría."
   ]
  },
  {
   "cell_type": "markdown",
   "metadata": {},
   "source": [
    "**Hagamos que cinco sea el número máximo de llamadas salientes realizadas para considerar a un operador ineficiente, solo el 15% de los operadores realizan a lo más cinco llamadas.**"
   ]
  },
  {
   "cell_type": "markdown",
   "metadata": {},
   "source": [
    "Finalmente vamos a considerar a un operador ineficiente si cumple cualquiera de las siguientes dos condiciones:\n",
    "1. **Cantidad de llamadas entrantes perdidas mayor a cinco**\n",
    "2. **Tiempo promedio de espera mayor a 41.57**\n",
    "3. **Tiene a los más cinco llamadas salientes**"
   ]
  },
  {
   "cell_type": "markdown",
   "metadata": {},
   "source": [
    "Etiquetemos a los operadores ineficientes en el set de datos `calls_by_operator`. Para ello vamos a crear dos columnas nuevas, una para cada condición."
   ]
  },
  {
   "cell_type": "code",
   "execution_count": 279,
   "metadata": {},
   "outputs": [],
   "source": [
    "def mark_inefficient_operators_calls_out(row, calls_count_threshold):\n",
    "    \"\"\"\n",
    "    Esta función crea una columna para marcar a los operadores ineficientes en llamadas salientes.\n",
    "    row: Una fila del DataFrame que contiene las estadísticas para los operadores y llamadas.\n",
    "    calls_count_threshold: Umbral para determinar la ineficiencia en el número de llamadas salientes.\n",
    "    \"\"\"\n",
    "    \n",
    "    if row['direction'] == \"out\" and row['calls_count'] < calls_count_threshold:\n",
    "        return 'inefficient'\n",
    "    else:\n",
    "        return 'efficient'"
   ]
  },
  {
   "cell_type": "code",
   "execution_count": 280,
   "metadata": {},
   "outputs": [],
   "source": [
    "# Establece el umbral deseado para determinar la ineficiencia en llamadas salientes\n",
    "calls_count_threshold = 6  \n",
    "\n",
    "# Aplica la función para marcar a los operadores\n",
    "calls_by_operator['calls_count_out'] = calls_by_operator.apply(lambda row: mark_inefficient_operators_calls_out(row, calls_count_threshold), axis=1)"
   ]
  },
  {
   "cell_type": "code",
   "execution_count": 281,
   "metadata": {},
   "outputs": [
    {
     "data": {
      "text/html": [
       "<div>\n",
       "<style scoped>\n",
       "    .dataframe tbody tr th:only-of-type {\n",
       "        vertical-align: middle;\n",
       "    }\n",
       "\n",
       "    .dataframe tbody tr th {\n",
       "        vertical-align: top;\n",
       "    }\n",
       "\n",
       "    .dataframe thead th {\n",
       "        text-align: right;\n",
       "    }\n",
       "</style>\n",
       "<table border=\"1\" class=\"dataframe\">\n",
       "  <thead>\n",
       "    <tr style=\"text-align: right;\">\n",
       "      <th></th>\n",
       "      <th>operator_id</th>\n",
       "      <th>direction</th>\n",
       "      <th>calls_count</th>\n",
       "      <th>call_duration</th>\n",
       "      <th>is_missed_call</th>\n",
       "      <th>time_waiting</th>\n",
       "      <th>mean_duration</th>\n",
       "      <th>mean_waiting</th>\n",
       "      <th>calls_count_out</th>\n",
       "    </tr>\n",
       "  </thead>\n",
       "  <tbody>\n",
       "    <tr>\n",
       "      <th>1094</th>\n",
       "      <td>892532</td>\n",
       "      <td>in</td>\n",
       "      <td>65</td>\n",
       "      <td>6218</td>\n",
       "      <td>0</td>\n",
       "      <td>1863</td>\n",
       "      <td>95.661538</td>\n",
       "      <td>28.661538</td>\n",
       "      <td>efficient</td>\n",
       "    </tr>\n",
       "    <tr>\n",
       "      <th>353</th>\n",
       "      <td>919372</td>\n",
       "      <td>out</td>\n",
       "      <td>1563</td>\n",
       "      <td>35127</td>\n",
       "      <td>13</td>\n",
       "      <td>37872</td>\n",
       "      <td>22.474088</td>\n",
       "      <td>24.230326</td>\n",
       "      <td>efficient</td>\n",
       "    </tr>\n",
       "    <tr>\n",
       "      <th>702</th>\n",
       "      <td>936296</td>\n",
       "      <td>out</td>\n",
       "      <td>4</td>\n",
       "      <td>0</td>\n",
       "      <td>3</td>\n",
       "      <td>104</td>\n",
       "      <td>0.000000</td>\n",
       "      <td>26.000000</td>\n",
       "      <td>inefficient</td>\n",
       "    </tr>\n",
       "    <tr>\n",
       "      <th>1577</th>\n",
       "      <td>968232</td>\n",
       "      <td>in</td>\n",
       "      <td>1</td>\n",
       "      <td>114</td>\n",
       "      <td>0</td>\n",
       "      <td>13</td>\n",
       "      <td>114.000000</td>\n",
       "      <td>13.000000</td>\n",
       "      <td>efficient</td>\n",
       "    </tr>\n",
       "    <tr>\n",
       "      <th>152</th>\n",
       "      <td>906680</td>\n",
       "      <td>out</td>\n",
       "      <td>160</td>\n",
       "      <td>7646</td>\n",
       "      <td>28</td>\n",
       "      <td>2376</td>\n",
       "      <td>47.787500</td>\n",
       "      <td>14.850000</td>\n",
       "      <td>efficient</td>\n",
       "    </tr>\n",
       "  </tbody>\n",
       "</table>\n",
       "</div>"
      ],
      "text/plain": [
       "      operator_id direction  calls_count  call_duration  is_missed_call  \\\n",
       "1094       892532        in           65           6218               0   \n",
       "353        919372       out         1563          35127              13   \n",
       "702        936296       out            4              0               3   \n",
       "1577       968232        in            1            114               0   \n",
       "152        906680       out          160           7646              28   \n",
       "\n",
       "      time_waiting  mean_duration  mean_waiting calls_count_out  \n",
       "1094          1863      95.661538     28.661538       efficient  \n",
       "353          37872      22.474088     24.230326       efficient  \n",
       "702            104       0.000000     26.000000     inefficient  \n",
       "1577            13     114.000000     13.000000       efficient  \n",
       "152           2376      47.787500     14.850000       efficient  "
      ]
     },
     "execution_count": 281,
     "metadata": {},
     "output_type": "execute_result"
    }
   ],
   "source": [
    "# mostramos parte de los datos\n",
    "calls_by_operator.sample(5)"
   ]
  },
  {
   "cell_type": "code",
   "execution_count": 282,
   "metadata": {},
   "outputs": [],
   "source": [
    "def operator_inefficient_calls_missed(row):\n",
    "    \n",
    "    # condicion de cantidad de llamadas perdidas\n",
    "    condicion_1=calls_in_missed\n",
    "    \n",
    "    # condicion de tiempo promedio de espera\n",
    "    condicion_2=mean_time_waiting\n",
    "    \n",
    "    if row['direction']==\"in\" and row['is_missed_call']>condicion_1 and row['mean_waiting']>condicion_2:\n",
    "        eficiencia='inefficient'\n",
    "    else:\n",
    "        eficiencia='efficient'\n",
    "    return eficiencia"
   ]
  },
  {
   "cell_type": "code",
   "execution_count": 283,
   "metadata": {},
   "outputs": [],
   "source": [
    "# Definimos la cantidad de llamadas perdidas para considerar a un operador como ineficiente (en mayúsculas)\n",
    "CALLS_IN_MISSED_THRESHOLD = 5\n",
    "\n",
    "# Definimos el tiempo promedio de espera para considerar a un operador como ineficiente (en mayúsculas)\n",
    "MEAN_TIME_WAITING_THRESHOLD = 41.57"
   ]
  },
  {
   "cell_type": "code",
   "execution_count": 284,
   "metadata": {},
   "outputs": [],
   "source": [
    "# marcamos a los operadores según la cantidad de llamadas entrantes perdidas y el tiempo promedio de espera\n",
    "calls_by_operator['calls_missed_time_waiting']=calls_by_operator.apply(operator_inefficient_calls_missed,axis=1)"
   ]
  },
  {
   "cell_type": "code",
   "execution_count": 285,
   "metadata": {},
   "outputs": [],
   "source": [
    "# finalmente creamos una función para saber si un operador es eficiente o ineficiente\n",
    "def efficient(condicion_1,condicion_2):\n",
    "    return True if condicion_1 =='efficient' and condicion_2=='efficient' else False"
   ]
  },
  {
   "cell_type": "code",
   "execution_count": 286,
   "metadata": {},
   "outputs": [],
   "source": [
    "# creamos una columna que nos diga si un operador es eficiente o no para cualquiera de las dos condiciones\n",
    "calls_by_operator['eficiente'] = calls_by_operator.apply(lambda x:efficient(x['calls_count_out'], x['calls_missed_time_waiting']),axis=1)"
   ]
  },
  {
   "cell_type": "code",
   "execution_count": 287,
   "metadata": {},
   "outputs": [
    {
     "data": {
      "text/html": [
       "<div>\n",
       "<style scoped>\n",
       "    .dataframe tbody tr th:only-of-type {\n",
       "        vertical-align: middle;\n",
       "    }\n",
       "\n",
       "    .dataframe tbody tr th {\n",
       "        vertical-align: top;\n",
       "    }\n",
       "\n",
       "    .dataframe thead th {\n",
       "        text-align: right;\n",
       "    }\n",
       "</style>\n",
       "<table border=\"1\" class=\"dataframe\">\n",
       "  <thead>\n",
       "    <tr style=\"text-align: right;\">\n",
       "      <th></th>\n",
       "      <th>operator_id</th>\n",
       "      <th>direction</th>\n",
       "      <th>calls_count</th>\n",
       "      <th>call_duration</th>\n",
       "      <th>is_missed_call</th>\n",
       "      <th>time_waiting</th>\n",
       "      <th>mean_duration</th>\n",
       "      <th>mean_waiting</th>\n",
       "      <th>calls_count_out</th>\n",
       "      <th>calls_missed_time_waiting</th>\n",
       "      <th>eficiente</th>\n",
       "    </tr>\n",
       "  </thead>\n",
       "  <tbody>\n",
       "    <tr>\n",
       "      <th>1387</th>\n",
       "      <td>940508</td>\n",
       "      <td>in</td>\n",
       "      <td>2</td>\n",
       "      <td>148</td>\n",
       "      <td>0</td>\n",
       "      <td>83</td>\n",
       "      <td>74.000000</td>\n",
       "      <td>41.500000</td>\n",
       "      <td>efficient</td>\n",
       "      <td>efficient</td>\n",
       "      <td>True</td>\n",
       "    </tr>\n",
       "    <tr>\n",
       "      <th>868</th>\n",
       "      <td>944766</td>\n",
       "      <td>in</td>\n",
       "      <td>152</td>\n",
       "      <td>13851</td>\n",
       "      <td>1</td>\n",
       "      <td>1374</td>\n",
       "      <td>91.125000</td>\n",
       "      <td>9.039474</td>\n",
       "      <td>efficient</td>\n",
       "      <td>efficient</td>\n",
       "      <td>True</td>\n",
       "    </tr>\n",
       "    <tr>\n",
       "      <th>168</th>\n",
       "      <td>935348</td>\n",
       "      <td>out</td>\n",
       "      <td>169</td>\n",
       "      <td>9801</td>\n",
       "      <td>26</td>\n",
       "      <td>2002</td>\n",
       "      <td>57.994083</td>\n",
       "      <td>11.846154</td>\n",
       "      <td>efficient</td>\n",
       "      <td>efficient</td>\n",
       "      <td>True</td>\n",
       "    </tr>\n",
       "    <tr>\n",
       "      <th>1309</th>\n",
       "      <td>884946</td>\n",
       "      <td>in</td>\n",
       "      <td>12</td>\n",
       "      <td>645</td>\n",
       "      <td>0</td>\n",
       "      <td>159</td>\n",
       "      <td>53.750000</td>\n",
       "      <td>13.250000</td>\n",
       "      <td>efficient</td>\n",
       "      <td>efficient</td>\n",
       "      <td>True</td>\n",
       "    </tr>\n",
       "    <tr>\n",
       "      <th>1594</th>\n",
       "      <td>900458</td>\n",
       "      <td>in</td>\n",
       "      <td>1</td>\n",
       "      <td>9</td>\n",
       "      <td>0</td>\n",
       "      <td>9</td>\n",
       "      <td>9.000000</td>\n",
       "      <td>9.000000</td>\n",
       "      <td>efficient</td>\n",
       "      <td>efficient</td>\n",
       "      <td>True</td>\n",
       "    </tr>\n",
       "    <tr>\n",
       "      <th>682</th>\n",
       "      <td>940614</td>\n",
       "      <td>in</td>\n",
       "      <td>145</td>\n",
       "      <td>8572</td>\n",
       "      <td>3</td>\n",
       "      <td>471</td>\n",
       "      <td>59.117241</td>\n",
       "      <td>3.248276</td>\n",
       "      <td>efficient</td>\n",
       "      <td>efficient</td>\n",
       "      <td>True</td>\n",
       "    </tr>\n",
       "    <tr>\n",
       "      <th>831</th>\n",
       "      <td>903978</td>\n",
       "      <td>out</td>\n",
       "      <td>6</td>\n",
       "      <td>8</td>\n",
       "      <td>2</td>\n",
       "      <td>14</td>\n",
       "      <td>1.333333</td>\n",
       "      <td>2.333333</td>\n",
       "      <td>efficient</td>\n",
       "      <td>efficient</td>\n",
       "      <td>True</td>\n",
       "    </tr>\n",
       "    <tr>\n",
       "      <th>1304</th>\n",
       "      <td>905844</td>\n",
       "      <td>in</td>\n",
       "      <td>13</td>\n",
       "      <td>1302</td>\n",
       "      <td>0</td>\n",
       "      <td>163</td>\n",
       "      <td>100.153846</td>\n",
       "      <td>12.538462</td>\n",
       "      <td>efficient</td>\n",
       "      <td>efficient</td>\n",
       "      <td>True</td>\n",
       "    </tr>\n",
       "    <tr>\n",
       "      <th>495</th>\n",
       "      <td>967310</td>\n",
       "      <td>out</td>\n",
       "      <td>52</td>\n",
       "      <td>1293</td>\n",
       "      <td>7</td>\n",
       "      <td>1015</td>\n",
       "      <td>24.865385</td>\n",
       "      <td>19.519231</td>\n",
       "      <td>efficient</td>\n",
       "      <td>efficient</td>\n",
       "      <td>True</td>\n",
       "    </tr>\n",
       "    <tr>\n",
       "      <th>668</th>\n",
       "      <td>882680</td>\n",
       "      <td>in</td>\n",
       "      <td>99</td>\n",
       "      <td>6107</td>\n",
       "      <td>3</td>\n",
       "      <td>1591</td>\n",
       "      <td>61.686869</td>\n",
       "      <td>16.070707</td>\n",
       "      <td>efficient</td>\n",
       "      <td>efficient</td>\n",
       "      <td>True</td>\n",
       "    </tr>\n",
       "  </tbody>\n",
       "</table>\n",
       "</div>"
      ],
      "text/plain": [
       "      operator_id direction  calls_count  call_duration  is_missed_call  \\\n",
       "1387       940508        in            2            148               0   \n",
       "868        944766        in          152          13851               1   \n",
       "168        935348       out          169           9801              26   \n",
       "1309       884946        in           12            645               0   \n",
       "1594       900458        in            1              9               0   \n",
       "682        940614        in          145           8572               3   \n",
       "831        903978       out            6              8               2   \n",
       "1304       905844        in           13           1302               0   \n",
       "495        967310       out           52           1293               7   \n",
       "668        882680        in           99           6107               3   \n",
       "\n",
       "      time_waiting  mean_duration  mean_waiting calls_count_out  \\\n",
       "1387            83      74.000000     41.500000       efficient   \n",
       "868           1374      91.125000      9.039474       efficient   \n",
       "168           2002      57.994083     11.846154       efficient   \n",
       "1309           159      53.750000     13.250000       efficient   \n",
       "1594             9       9.000000      9.000000       efficient   \n",
       "682            471      59.117241      3.248276       efficient   \n",
       "831             14       1.333333      2.333333       efficient   \n",
       "1304           163     100.153846     12.538462       efficient   \n",
       "495           1015      24.865385     19.519231       efficient   \n",
       "668           1591      61.686869     16.070707       efficient   \n",
       "\n",
       "     calls_missed_time_waiting  eficiente  \n",
       "1387                 efficient       True  \n",
       "868                  efficient       True  \n",
       "168                  efficient       True  \n",
       "1309                 efficient       True  \n",
       "1594                 efficient       True  \n",
       "682                  efficient       True  \n",
       "831                  efficient       True  \n",
       "1304                 efficient       True  \n",
       "495                  efficient       True  \n",
       "668                  efficient       True  "
      ]
     },
     "execution_count": 287,
     "metadata": {},
     "output_type": "execute_result"
    }
   ],
   "source": [
    "# mostramos parte de los datos\n",
    "calls_by_operator.sample(10)"
   ]
  },
  {
   "cell_type": "markdown",
   "metadata": {},
   "source": [
    "## Operadores ineficientes"
   ]
  },
  {
   "cell_type": "code",
   "execution_count": 288,
   "metadata": {},
   "outputs": [
    {
     "data": {
      "text/plain": [
       "True     1490\n",
       "False     146\n",
       "Name: eficiente, dtype: int64"
      ]
     },
     "execution_count": 288,
     "metadata": {},
     "output_type": "execute_result"
    }
   ],
   "source": [
    "# veamos la cantidad de operadores ineficientes\n",
    "calls_by_operator['eficiente'].value_counts()"
   ]
  },
  {
   "cell_type": "code",
   "execution_count": 289,
   "metadata": {},
   "outputs": [
    {
     "data": {
      "text/plain": [
       "efficient      1491\n",
       "inefficient     145\n",
       "Name: calls_count_out, dtype: int64"
      ]
     },
     "execution_count": 289,
     "metadata": {},
     "output_type": "execute_result"
    }
   ],
   "source": [
    "# operadores ineficientes por la cantidad de llamadas salientes\n",
    "calls_by_operator['calls_count_out'].value_counts()"
   ]
  },
  {
   "cell_type": "code",
   "execution_count": 290,
   "metadata": {},
   "outputs": [
    {
     "data": {
      "text/plain": [
       "efficient      1635\n",
       "inefficient       1\n",
       "Name: calls_missed_time_waiting, dtype: int64"
      ]
     },
     "execution_count": 290,
     "metadata": {},
     "output_type": "execute_result"
    }
   ],
   "source": [
    "# operadores ineficientes por la cantidad de llamadas entrantes perdidas y tiempo promedio de espera\n",
    "calls_by_operator['calls_missed_time_waiting'].value_counts()"
   ]
  },
  {
   "cell_type": "markdown",
   "metadata": {},
   "source": [
    "Por lo tanto:\n",
    "1. **Cantidad de llamadas entrantes perdidas mayor a cinco** \n",
    "2. **Tiempo promedio de espera mayor a 41.57**\n",
    "3. **Tiene a los más cinco llamadas salientes**\n",
    "\n",
    "Hay 146 operadores ineficientes."
   ]
  },
  {
   "cell_type": "code",
   "execution_count": 291,
   "metadata": {},
   "outputs": [],
   "source": [
    "# finalmente vamos a crear un archivo 'csv' que contenga la información final del dataframe 'calls_by_operator'\n",
    "calls_by_operator.to_csv('calls_by_operator.csv')"
   ]
  },
  {
   "cell_type": "markdown",
   "metadata": {},
   "source": [
    "## Hipótesis"
   ]
  },
  {
   "cell_type": "markdown",
   "metadata": {},
   "source": [
    "\n",
    "1. **Hipótesis de Sobrecarga de Llamadas:** Los operadores que están continuamente recibiendo un alto volumen de llamadas entrantes podrían ser más propensos a la ineficacia. Si un operador está constantemente abrumado con llamadas, es probable que se enfrenten a tiempos de espera prolongados para atender a todas las llamadas. Además, la probabilidad de que algunas llamadas se pierdan o se manejen de manera insatisfactoria aumenta en situaciones de sobrecarga.\n",
    "\n",
    "Respuesta:\n",
    "\n",
    "Basándose en los datos proporcionados:\n",
    "\n",
    "La media del tiempo promedio de espera (time_waiting) es de aproximadamente 15.22.\n",
    "\n",
    "El percentil 75% del tiempo promedio de espera es de 21.0, lo que indica que el 75% de los operadores tienen un tiempo de espera igual o inferior a 21.0.\n",
    "\n",
    "Estos datos sugieren que la mayoría de los operadores tienen tiempos de espera relativamente bajos, ya que el 75% de ellos tienen tiempos de espera iguales o inferiores a 21.0. Esto no respalda directamente la hipótesis de sobrecarga de llamadas, que sugería que los operadores que reciben un alto volumen de llamadas entrantes podrían tener tiempos de espera prolongados debido a la sobrecarga.\n",
    "\n",
    "2. **Hipótesis de Baja Iniciativa en Llamadas Salientes:** Los operadores que no muestran iniciativa en realizar llamadas salientes podrían ser considerados ineficientes. Si se espera que los operadores también realicen llamadas salientes como parte de sus responsabilidades, un bajo número de estas llamadas podría ser un indicio de falta de proactividad o habilidades de comunicación insuficientes, lo que podría afectar la percepción de eficacia.\n",
    "\n",
    "Respuesta:\n",
    "\n",
    "Según los datos proporcionados:\n",
    "\n",
    "Hay 145 operadores etiquetados como \"ineficientes\" en términos de la cantidad de llamadas salientes.\n",
    "\n",
    "Hay 1,491 operadores etiquetados como \"eficientes\" en esta categoría.\n",
    "\n",
    "Esto indica que hay un grupo de operadores que son considerados \"ineficientes\" en términos de llamadas salientes. Esto respalda la hipótesis de que un bajo número de llamadas salientes podría ser un indicio de falta de proactividad o habilidades de comunicación insuficientes.\n",
    "\n",
    "3. **Hipótesis de Altos Tiempos de Espera:** Los operadores que mantienen altos tiempos de espera para las llamadas entrantes podrían ser percibidos como ineficientes. Un tiempo de espera prolongado puede generar frustración en los clientes y afectar negativamente la calidad del servicio. Si un operador no puede manejar las llamadas de manera oportuna, esto podría indicar problemas en la gestión del flujo de llamadas, las habilidades de atención al cliente o la carga de trabajo.\n",
    "\n",
    "Respuesta:\n",
    "\n",
    "Según los datos proporcionados:\n",
    "\n",
    "Hay 1 operador etiquetado como \"ineficiente\" en términos de la cantidad de llamadas entrantes perdidas y tiempo promedio de espera.\n",
    "Hay 1,635 operadores etiquetados como \"eficientes\" en esta categoría.\n",
    "\n",
    "La presencia de solo 1 operador etiquetado como \"ineficiente\" en esta categoría indica que es una excepción en comparación con la mayoría de los operadores que se consideran \"eficientes\" en términos de tiempo de espera y llamadas entrantes perdidas.\n",
    "\n",
    "Esto sugiere que la mayoría de los operadores mantienen tiempos de espera adecuados y no tienen un alto número de llamadas entrantes perdidas, lo que no respalda directamente la hipótesis de altos tiempos de espera como un problema generalizado entre los operadores.\n"
   ]
  },
  {
   "cell_type": "markdown",
   "metadata": {},
   "source": [
    "## Conclusión"
   ]
  },
  {
   "cell_type": "markdown",
   "metadata": {},
   "source": [
    "Basándonos en el análisis de los datos y las hipótesis planteadas, podemos llegar a las siguientes conclusiones:\n",
    "\n",
    "Hipótesis de Sobrecarga de Llamadas: Los datos sugieren que la mayoría de los operadores tienen tiempos de espera relativamente bajos, lo que no respalda la hipótesis de sobrecarga de llamadas. Esto indica que la sobrecarga de llamadas no parece ser un problema generalizado entre los operadores.\n",
    "\n",
    "Hipótesis de Baja Iniciativa en Llamadas Salientes: Los datos respaldan la hipótesis de que un bajo número de llamadas salientes podría ser un indicio de falta de proactividad o habilidades de comunicación insuficientes entre los operadores. Hay un grupo de operadores etiquetados como \"ineficientes\" en términos de llamadas salientes.\n",
    "\n",
    "Hipótesis de Altos Tiempos de Espera: Los datos sugieren que la mayoría de los operadores mantienen tiempos de espera adecuados y no tienen un alto número de llamadas entrantes perdidas, lo que no respalda directamente la hipótesis de altos tiempos de espera como un problema generalizado entre los operadores. Sin embargo, existe una excepción de un operador etiquetado como \"ineficiente\" en esta categoría."
   ]
  },
  {
   "cell_type": "markdown",
   "metadata": {},
   "source": [
    "## Recomendación"
   ]
  },
  {
   "cell_type": "markdown",
   "metadata": {},
   "source": [
    "Con base en las conclusiones, se pueden hacer las siguientes recomendaciones:\n",
    "\n",
    "Optimización de Llamadas Salientes: Se debe analizar y proporcionar capacitación adicional a los operadores etiquetados como \"ineficientes\" en llamadas salientes. Esto podría incluir mejorar las habilidades de comunicación y la iniciativa para realizar llamadas proactivas.\n",
    "\n",
    "Seguimiento Individual: Dado que hay un operador etiquetado como \"ineficiente\" en términos de tiempos de espera y llamadas entrantes perdidas, se debe realizar un seguimiento individual para comprender las causas subyacentes de esta ineficiencia y brindar el apoyo necesario."
   ]
  },
  {
   "cell_type": "markdown",
   "metadata": {},
   "source": [
    "## Acciones futuras"
   ]
  },
  {
   "cell_type": "markdown",
   "metadata": {},
   "source": [
    "Para una comprensión más completa y precisa de la eficiencia de los operadores, se pueden tomar las siguientes acciones futuras:\n",
    "\n",
    "1. Análisis Detallado: Realizar un análisis más detallado de las llamadas entrantes y salientes, así como de otros factores que puedan influir en la eficiencia de los operadores.\n",
    "\n",
    "\n",
    "2. Definición de Criterios: Refinar y definir claramente los criterios utilizados para etiquetar a los operadores como \"eficientes\" o \"ineficientes\". Esto ayudará a garantizar una evaluación más precisa.\n",
    "\n",
    "\n",
    "3. Monitoreo Continuo: Establecer un sistema de monitoreo continuo para evaluar el desempeño de los operadores y tomar medidas correctivas cuando sea necesario.\n",
    "\n",
    "\n",
    "4. Capacitación: Proporcionar capacitación continua a los operadores para mejorar sus habilidades y conocimientos.\n",
    "\n",
    "\n",
    "5. Feedback: Fomentar un ambiente en el que los operadores puedan proporcionar comentarios y sugerencias para mejorar la eficiencia y la calidad del servicio.\n",
    "\n",
    "En resumen, el análisis de datos proporciona una visión inicial de la eficiencia de los operadores, pero es importante llevar a cabo un seguimiento continuo y tomar medidas específicas para mejorar y optimizar sus habilidades y desempeño en beneficio de la empresa y los clientes."
   ]
  },
  {
   "cell_type": "markdown",
   "metadata": {},
   "source": [
    "## Links"
   ]
  },
  {
   "cell_type": "markdown",
   "metadata": {},
   "source": [
    "1. Esta pagína me ayudo a entender las funciones que utilice https://j2logo.com/python/tutorial/funciones-en-python/\n",
    "2. Telegonia que es, como funciona https://www.servnet.mx/blog/operador-de-telefonia-que-es-como-funciona-y-como-elegir-el-mejor\n",
    "3. Estudie por esta pagína como encontrar y mostrar valores atipicos mediante graficos en python https://www.geeksforgeeks.org/detect-and-remove-the-outliers-using-python/"
   ]
  },
  {
   "cell_type": "markdown",
   "metadata": {},
   "source": [
    "# Dashbord"
   ]
  },
  {
   "cell_type": "markdown",
   "metadata": {},
   "source": [
    "https://public.tableau.com/app/profile/mauro.mu.oz/viz/callmemaybe_proyecto/Dashboard?publish=yes"
   ]
  }
 ],
 "metadata": {
  "kernelspec": {
   "display_name": "Python 3 (ipykernel)",
   "language": "python",
   "name": "python3"
  },
  "language_info": {
   "codemirror_mode": {
    "name": "ipython",
    "version": 3
   },
   "file_extension": ".py",
   "mimetype": "text/x-python",
   "name": "python",
   "nbconvert_exporter": "python",
   "pygments_lexer": "ipython3",
   "version": "3.9.5"
  },
  "toc": {
   "base_numbering": 1,
   "nav_menu": {},
   "number_sections": true,
   "sideBar": true,
   "skip_h1_title": true,
   "title_cell": "Table of Contents",
   "title_sidebar": "Contents",
   "toc_cell": false,
   "toc_position": {},
   "toc_section_display": true,
   "toc_window_display": false
  }
 },
 "nbformat": 4,
 "nbformat_minor": 2
}
